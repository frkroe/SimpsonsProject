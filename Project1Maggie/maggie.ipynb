{
  "nbformat": 4,
  "nbformat_minor": 0,
  "metadata": {
    "colab": {
      "provenance": [],
      "authorship_tag": "ABX9TyMjLRTWakFnj/9M4LvvFrQS",
      "include_colab_link": true
    },
    "kernelspec": {
      "name": "python3",
      "display_name": "Python 3"
    },
    "language_info": {
      "name": "python"
    }
  },
  "cells": [
    {
      "cell_type": "markdown",
      "metadata": {
        "id": "view-in-github",
        "colab_type": "text"
      },
      "source": [
        "<a href=\"https://colab.research.google.com/github/frkroe/SimpsonsProject/blob/main/maggie.ipynb\" target=\"_parent\"><img src=\"https://colab.research.google.com/assets/colab-badge.svg\" alt=\"Open In Colab\"/></a>"
      ]
    },
    {
      "cell_type": "markdown",
      "source": [
        "# The Simpsons\n",
        "## Pasos (Maggie Level)\n"
      ],
      "metadata": {
        "id": "ohCVZGrtkAJM"
      }
    },
    {
      "cell_type": "markdown",
      "source": [
        "Importaciones"
      ],
      "metadata": {
        "id": "1cSAxBTqnXD1"
      }
    },
    {
      "cell_type": "code",
      "source": [
        "import requests\n",
        "import time\n",
        "import csv"
      ],
      "metadata": {
        "id": "E7SlFZy_nbCn"
      },
      "execution_count": 1,
      "outputs": []
    },
    {
      "cell_type": "markdown",
      "source": [
        "Crear 3 carpetas"
      ],
      "metadata": {
        "id": "jHTmMwjf8LOE"
      }
    },
    {
      "cell_type": "code",
      "source": [
        "!mkdir Homer\n",
        "!mkdir Lisa\n",
        "!mkdir General"
      ],
      "metadata": {
        "colab": {
          "base_uri": "https://localhost:8080/"
        },
        "id": "qWjePan88OPI",
        "outputId": "5f817e6c-c512-4e47-894b-4a7c5a16db82"
      },
      "execution_count": 3,
      "outputs": [
        {
          "output_type": "stream",
          "name": "stdout",
          "text": [
            "mkdir: cannot create directory ‘Homer’: File exists\n",
            "mkdir: cannot create directory ‘Lisa’: File exists\n",
            "mkdir: cannot create directory ‘General’: File exists\n"
          ]
        }
      ]
    },
    {
      "cell_type": "markdown",
      "source": [
        "Función de convertir una lista de diccionarios a csv\n"
      ],
      "metadata": {
        "id": "C3KEWlkhvceo"
      }
    },
    {
      "cell_type": "code",
      "source": [
        "def convert(lista, file):\n",
        "  with file:\n",
        "    dict_writer = csv.DictWriter(file, lista[0].keys())\n",
        "    dict_writer.writeheader()\n",
        "    dict_writer.writerows(lista)"
      ],
      "metadata": {
        "id": "hdnDzyi5McCj"
      },
      "execution_count": 4,
      "outputs": []
    },
    {
      "cell_type": "markdown",
      "source": [
        "Guardar los datos obtenidos de la API en archivos .csv"
      ],
      "metadata": {
        "id": "ma8eZlRAqGTA"
      }
    },
    {
      "cell_type": "code",
      "source": [
        "listaGen = []\n",
        "listaLisa = []\n",
        "listaHomer = []\n",
        "\n",
        "while True:\n",
        "## obtener datos de la API, guardar todos en un archivo .json y convertirlos en un diccionario\n",
        "  response_API = requests.get('https://thesimpsonsquoteapi.glitch.me/quotes')\n",
        "  dataJSON = response_API.json()\n",
        "  datos = {\"Personaje\": dataJSON[0][\"character\"], \"Frase\": dataJSON[0][\"quote\"]}\n",
        "## guardar los datos en 3 archivos .csv diferentes\n",
        "  listaGen.append(datos)\n",
        "  fileG = open(\"General/general.csv\", \"w\", newline='')\n",
        "  convert(listaGen, fileG)\n",
        "  if datos[\"Personaje\"] == \"Lisa Simpson\":\n",
        "    listaLisa.append(datos)\n",
        "    fileL = open(\"Lisa/lisa.csv\", \"w\", newline='')\n",
        "    convert(listaLisa, fileL)\n",
        "  elif datos[\"Personaje\"] == \"Homer Simpson\": \n",
        "    listaHomer.append(datos)\n",
        "    fileH = open(\"Homer/homer.csv\", \"w\", newline='')\n",
        "    convert(listaHomer, fileH)\n",
        "## esperar 30 segundos para seguir ejecutando el bucle while\n",
        "  time.sleep(30)\n",
        "  #print(listaGen)"
      ],
      "metadata": {
        "colab": {
          "base_uri": "https://localhost:8080/",
          "height": 235
        },
        "id": "jCEe1cRLFHBa",
        "outputId": "e57825e1-bfe0-4f49-9212-d1ff4dadf6ad"
      },
      "execution_count": 6,
      "outputs": [
        {
          "output_type": "stream",
          "name": "stdout",
          "text": [
            "[{'Personaje': 'Chief Wiggum', 'Frase': \"Hey, I'm the chief here. Bake him away, toys.\"}]\n"
          ]
        },
        {
          "output_type": "error",
          "ename": "KeyboardInterrupt",
          "evalue": "ignored",
          "traceback": [
            "\u001b[0;31m---------------------------------------------------------------------------\u001b[0m",
            "\u001b[0;31mKeyboardInterrupt\u001b[0m                         Traceback (most recent call last)",
            "\u001b[0;32m<ipython-input-6-6cd42751a2c1>\u001b[0m in \u001b[0;36m<module>\u001b[0;34m\u001b[0m\n\u001b[1;32m     21\u001b[0m     \u001b[0mconvert\u001b[0m\u001b[0;34m(\u001b[0m\u001b[0mlistaHomer\u001b[0m\u001b[0;34m,\u001b[0m \u001b[0mfileH\u001b[0m\u001b[0;34m)\u001b[0m\u001b[0;34m\u001b[0m\u001b[0;34m\u001b[0m\u001b[0m\n\u001b[1;32m     22\u001b[0m \u001b[0;31m## esperar 30 segundos para seguir ejecutando el bucle while\u001b[0m\u001b[0;34m\u001b[0m\u001b[0;34m\u001b[0m\u001b[0;34m\u001b[0m\u001b[0m\n\u001b[0;32m---> 23\u001b[0;31m   \u001b[0mtime\u001b[0m\u001b[0;34m.\u001b[0m\u001b[0msleep\u001b[0m\u001b[0;34m(\u001b[0m\u001b[0;36m30\u001b[0m\u001b[0;34m)\u001b[0m\u001b[0;34m\u001b[0m\u001b[0;34m\u001b[0m\u001b[0m\n\u001b[0m\u001b[1;32m     24\u001b[0m   \u001b[0mprint\u001b[0m\u001b[0;34m(\u001b[0m\u001b[0mlistaGen\u001b[0m\u001b[0;34m)\u001b[0m\u001b[0;34m\u001b[0m\u001b[0;34m\u001b[0m\u001b[0m\n",
            "\u001b[0;31mKeyboardInterrupt\u001b[0m: "
          ]
        }
      ]
    },
    {
      "cell_type": "markdown",
      "source": [
        "descargar archivos para comproparlos"
      ],
      "metadata": {
        "id": "9A8Vxkr_HFVF"
      }
    },
    {
      "cell_type": "code",
      "source": [
        "from google.colab import files\n",
        "#files.download('Homer/homer.csv') \n",
        "#files.download('Lisa/lisa.csv') \n",
        "files.download('General/general.csv') "
      ],
      "metadata": {
        "colab": {
          "base_uri": "https://localhost:8080/",
          "height": 17
        },
        "id": "Dg-VjjYaHII_",
        "outputId": "c8673fdb-2dd3-4124-c498-c3ba9565e0e8"
      },
      "execution_count": 9,
      "outputs": [
        {
          "output_type": "display_data",
          "data": {
            "text/plain": [
              "<IPython.core.display.Javascript object>"
            ],
            "application/javascript": [
              "\n",
              "    async function download(id, filename, size) {\n",
              "      if (!google.colab.kernel.accessAllowed) {\n",
              "        return;\n",
              "      }\n",
              "      const div = document.createElement('div');\n",
              "      const label = document.createElement('label');\n",
              "      label.textContent = `Downloading \"${filename}\": `;\n",
              "      div.appendChild(label);\n",
              "      const progress = document.createElement('progress');\n",
              "      progress.max = size;\n",
              "      div.appendChild(progress);\n",
              "      document.body.appendChild(div);\n",
              "\n",
              "      const buffers = [];\n",
              "      let downloaded = 0;\n",
              "\n",
              "      const channel = await google.colab.kernel.comms.open(id);\n",
              "      // Send a message to notify the kernel that we're ready.\n",
              "      channel.send({})\n",
              "\n",
              "      for await (const message of channel.messages) {\n",
              "        // Send a message to notify the kernel that we're ready.\n",
              "        channel.send({})\n",
              "        if (message.buffers) {\n",
              "          for (const buffer of message.buffers) {\n",
              "            buffers.push(buffer);\n",
              "            downloaded += buffer.byteLength;\n",
              "            progress.value = downloaded;\n",
              "          }\n",
              "        }\n",
              "      }\n",
              "      const blob = new Blob(buffers, {type: 'application/binary'});\n",
              "      const a = document.createElement('a');\n",
              "      a.href = window.URL.createObjectURL(blob);\n",
              "      a.download = filename;\n",
              "      div.appendChild(a);\n",
              "      a.click();\n",
              "      div.remove();\n",
              "    }\n",
              "  "
            ]
          },
          "metadata": {}
        },
        {
          "output_type": "display_data",
          "data": {
            "text/plain": [
              "<IPython.core.display.Javascript object>"
            ],
            "application/javascript": [
              "download(\"download_ee10ade0-514b-4615-a0d4-5dab9c333da5\", \"general.csv\", 261)"
            ]
          },
          "metadata": {}
        }
      ]
    }
  ]
}